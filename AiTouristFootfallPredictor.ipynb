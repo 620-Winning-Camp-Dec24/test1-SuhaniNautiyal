{
  "nbformat": 4,
  "nbformat_minor": 0,
  "metadata": {
    "colab": {
      "provenance": []
    },
    "kernelspec": {
      "name": "python3",
      "display_name": "Python 3"
    },
    "language_info": {
      "name": "python"
    }
  },
  "cells": [
    {
      "cell_type": "code",
      "execution_count": null,
      "metadata": {
        "id": "tG0NjbvY6mwQ"
      },
      "outputs": [],
      "source": [
        "import pandas as pd\n",
        "import numpy as np\n",
        "import matplotlib.pyplot as plt\n",
        "import seaborn as sns\n",
        "\n",
        "from sklearn.model_selection import train_test_split\n",
        "from sklearn.linear_model import LinearRegression\n",
        "from sklearn.metrics import mean_squared_error, r2_score\n",
        "\n",
        "import warnings\n",
        "warnings.filterwarnings('ignore')\n"
      ]
    },
    {
      "cell_type": "code",
      "source": [
        "data = {\n",
        "    'Date': pd.date_range(start='2023-01-01', periods=365, freq='D'),\n",
        "    'Weather': np.random.choice(['Sunny', 'Rainy', 'Cloudy'], size=365),\n",
        "    'Event': np.random.choice(['Festival', 'No Event', 'Holiday'], size=365),\n",
        "    'Footfall': np.random.randint(1000, 5000, size=365)\n",
        "}\n",
        "\n",
        "df = pd.DataFrame(data)\n",
        "print(df.head())\n"
      ],
      "metadata": {
        "colab": {
          "base_uri": "https://localhost:8080/"
        },
        "id": "sqlDZ6Hr7Z4v",
        "outputId": "45884fd6-f7b3-47b3-9de7-541f1ff7a549"
      },
      "execution_count": null,
      "outputs": [
        {
          "output_type": "stream",
          "name": "stdout",
          "text": [
            "        Date Weather     Event  Footfall\n",
            "0 2023-01-01   Rainy  No Event      4985\n",
            "1 2023-01-02   Sunny  No Event      3801\n",
            "2 2023-01-03   Sunny  Festival      3777\n",
            "3 2023-01-04  Cloudy   Holiday      3447\n",
            "4 2023-01-05  Cloudy  No Event      4223\n"
          ]
        }
      ]
    },
    {
      "cell_type": "code",
      "source": [
        "df['Weather'] = df['Weather'].map({'Sunny': 2, 'Cloudy': 1, 'Rainy': 0})\n",
        "df['Event'] = df['Event'].map({'Festival': 2, 'Holiday': 1, 'No Event': 0})\n",
        "df['DayOfYear'] = df['Date'].dt.dayofyear\n",
        "df = df.drop('Date', axis=1)\n",
        "\n",
        "print(df.head())\n"
      ],
      "metadata": {
        "colab": {
          "base_uri": "https://localhost:8080/"
        },
        "id": "2eVgzvvHb8Nh",
        "outputId": "4094055f-792a-4132-998d-efacea44b386"
      },
      "execution_count": null,
      "outputs": [
        {
          "output_type": "stream",
          "name": "stdout",
          "text": [
            "   Weather  Event  Footfall  DayOfYear\n",
            "0        0      0      4985          1\n",
            "1        2      0      3801          2\n",
            "2        2      2      3777          3\n",
            "3        1      1      3447          4\n",
            "4        1      0      4223          5\n"
          ]
        }
      ]
    },
    {
      "cell_type": "code",
      "source": [
        "X = df.drop('Footfall', axis=1)\n",
        "y = df['Footfall']\n",
        "\n",
        "X_train, X_test, y_train, y_test = train_test_split(X, y, test_size=0.2, random_state=42)\n",
        "\n",
        "print(\"Training data shape:\", X_train.shape)\n",
        "print(\"Testing data shape:\", X_test.shape)\n"
      ],
      "metadata": {
        "colab": {
          "base_uri": "https://localhost:8080/"
        },
        "id": "vs1NUAyTcETf",
        "outputId": "55a5dfcb-3e87-467d-a35b-dab22dbc428f"
      },
      "execution_count": null,
      "outputs": [
        {
          "output_type": "stream",
          "name": "stdout",
          "text": [
            "Training data shape: (292, 3)\n",
            "Testing data shape: (73, 3)\n"
          ]
        }
      ]
    },
    {
      "cell_type": "code",
      "source": [
        "model = LinearRegression()\n",
        "model.fit(X_train, y_train)\n",
        "y_pred = model.predict(X_test)\n",
        "\n",
        "mse = mean_squared_error(y_test, y_pred)\n",
        "r2 = r2_score(y_test, y_pred)\n",
        "\n",
        "print(f\"Mean Squared Error: {mse}\")\n",
        "print(f\"R^2 Score: {r2}\")\n"
      ],
      "metadata": {
        "colab": {
          "base_uri": "https://localhost:8080/"
        },
        "id": "EKAp9FjkcMYV",
        "outputId": "b03c100e-e157-4347-a468-ebed21a08200"
      },
      "execution_count": null,
      "outputs": [
        {
          "output_type": "stream",
          "name": "stdout",
          "text": [
            "Mean Squared Error: 1577187.582941619\n",
            "R^2 Score: -0.024606983885811173\n"
          ]
        }
      ]
    },
    {
      "cell_type": "code",
      "source": [
        "new_data = pd.DataFrame({\n",
        "    'Weather': [2],\n",
        "    'Event': [2],\n",
        "    'DayOfYear': [150]\n",
        "})\n",
        "predicted_footfall = model.predict(new_data)\n",
        "print(f\"Predicted Footfall: {int(predicted_footfall[0])}\")\n"
      ],
      "metadata": {
        "colab": {
          "base_uri": "https://localhost:8080/"
        },
        "id": "nCowKzAHcQcF",
        "outputId": "0a321323-e259-4c1c-d23b-0791499d6188"
      },
      "execution_count": null,
      "outputs": [
        {
          "output_type": "stream",
          "name": "stdout",
          "text": [
            "Predicted Footfall: 2877\n"
          ]
        }
      ]
    },
    {
      "cell_type": "code",
      "source": [
        "plt.figure(figsize=(10, 6))\n",
        "plt.scatter(y_test, y_pred, alpha=0.7, color='blue')\n",
        "plt.xlabel('Actual Footfall')\n",
        "plt.ylabel('Predicted Footfall')\n",
        "plt.title('Actual vs Predicted Footfall')\n",
        "plt.show()\n"
      ],
      "metadata": {
        "colab": {
          "base_uri": "https://localhost:8080/",
          "height": 564
        },
        "id": "77a7rrefcU2w",
        "outputId": "c52630a2-45db-4258-8a7b-2df83b8f3cb0"
      },
      "execution_count": null,
      "outputs": [
        {
          "output_type": "display_data",
          "data": {
            "text/plain": [
              "<Figure size 1000x600 with 1 Axes>"
            ],
            "image/png": "[encoded data removed]"
          },
          "metadata": {}
        }
      ]
    },
    {
      "cell_type": "code",
      "source": [
        "import joblib\n",
        "\n",
        "# Save the model to a file\n",
        "joblib.dump(model, 'footfall_predictor.pkl')\n"
      ],
      "metadata": {
        "colab": {
          "base_uri": "https://localhost:8080/"
        },
        "id": "RrPr8pF9cf4X",
        "outputId": "d9c5eb50-c25c-48f1-c4c1-9b6fe2a6e2cf"
      },
      "execution_count": null,
      "outputs": [
        {
          "output_type": "execute_result",
          "data": {
            "text/plain": [
              "['footfall_predictor.pkl']"
            ]
          },
          "metadata": {},
          "execution_count": 10
        }
      ]
    }
  ]
}